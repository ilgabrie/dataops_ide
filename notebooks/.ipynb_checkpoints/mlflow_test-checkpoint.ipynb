{
 "cells": [
  {
   "cell_type": "code",
   "execution_count": 1,
   "id": "1a08d1d4",
   "metadata": {},
   "outputs": [],
   "source": [
    "import pandas as pd\n",
    "import matplotlib.pyplot as plt\n",
    "import numpy as np\n",
    "from sklearn import linear_model\n",
    "import mlflow\n",
    "import mlflow.pyfunc\n",
    "import mlflow.sklearn\n",
    "from mlflow.models.signature import infer_signature\n",
    "from mlflow.utils.environment import _mlflow_conda_env\n",
    "import cloudpickle\n",
    "from urllib.parse import urlparse"
   ]
  },
  {
   "cell_type": "code",
   "execution_count": 2,
   "id": "258288d4",
   "metadata": {},
   "outputs": [],
   "source": [
    "df = pd.read_csv('/home/jovyan/work/CarPrice.csv')"
   ]
  },
  {
   "cell_type": "code",
   "execution_count": 3,
   "id": "71421356",
   "metadata": {},
   "outputs": [],
   "source": [
    "split = np.random.rand(len(df)) < 0.8\n",
    "train = df[split]\n",
    "test = df[~split]"
   ]
  },
  {
   "cell_type": "code",
   "execution_count": 4,
   "id": "9e723c08",
   "metadata": {},
   "outputs": [],
   "source": [
    "regr = linear_model.LinearRegression()\n",
    "train_x_mpg = np.asanyarray(train[['enginesize']])\n",
    "train_y_price = np.asanyarray(train[['price']])"
   ]
  },
  {
   "cell_type": "code",
   "execution_count": 9,
   "id": "831c24f1",
   "metadata": {},
   "outputs": [
    {
     "name": "stdout",
     "output_type": "stream",
     "text": [
      "INFO: 'MLOpsDemo' does not exist. Creating a new experiment\n"
     ]
    }
   ],
   "source": [
    "mlflow.set_tracking_uri('http://mlflow:5000')\n",
    "mlflow.set_experiment(\"MLOpsDemo\")"
   ]
  },
  {
   "cell_type": "code",
   "execution_count": 16,
   "id": "6a5e7438",
   "metadata": {},
   "outputs": [],
   "source": [
    "mlflow.autolog(\n",
    "    log_input_examples=False,\n",
    "    log_model_signatures=True,\n",
    "    log_models=True,\n",
    "    disable=False,\n",
    "    exclusive=True,\n",
    "    disable_for_unsupported_versions=True,\n",
    "    silent=True\n",
    ")"
   ]
  },
  {
   "cell_type": "code",
   "execution_count": 22,
   "id": "c62404ec",
   "metadata": {},
   "outputs": [
    {
     "name": "stdout",
     "output_type": "stream",
     "text": [
      "Coefficients:  [[165.0745928]]\n",
      "Intercept:  [-7767.88539476]\n",
      "Mean absolute error: 2746.53\n",
      "Residual sum of squares (MSE): 13676054.90\n",
      "R2-score: 0.82\n"
     ]
    },
    {
     "name": "stderr",
     "output_type": "stream",
     "text": [
      "Registered model 'LR_model' already exists. Creating a new version of this model...\n",
      "2021/12/02 12:45:07 INFO mlflow.tracking._model_registry.client: Waiting up to 300 seconds for model version to finish creation.                     Model name: LR_model, version 12\n",
      "Created version '12' of model 'LR_model'.\n"
     ]
    }
   ],
   "source": [
    "with mlflow.start_run():\n",
    "    \n",
    "    regr.fit (train_x_mpg, train_y_price)\n",
    "    print ('Coefficients: ', regr.coef_)\n",
    "    print ('Intercept: ',regr.intercept_)\n",
    "    \n",
    "    from sklearn.metrics import r2_score\n",
    "    \n",
    "    test_x_mpg = np.asanyarray(test[['enginesize']])\n",
    "    test_y_price = np.asanyarray(test[['price']])\n",
    "    test_y_price_ = regr.predict(test_x_mpg)\n",
    "    \n",
    "    m_a_e = np.mean(np.absolute(test_y_price_ - test_y_price))\n",
    "    m_s_e = np.mean((test_y_price_ - test_y_price) ** 2)\n",
    "    r_squared = r2_score(test_y_price , test_y_price_)\n",
    "    print(\"Mean absolute error: %.2f\" % m_a_e )\n",
    "    print(\"Residual sum of squares (MSE): %.2f\" % m_s_e )\n",
    "    print(\"R2-score: %.2f\" %  r_squared)\n",
    "    \n",
    "    mlflow.log_metric(\"m_s_e\", m_s_e)\n",
    "    mlflow.log_metric(\"r_squared\", r_squared)\n",
    "    mlflow.log_metric(\"m_a_e\", m_a_e)\n",
    "    \n",
    "    #plt.scatter(train.enginesize, train.price,  color='blue')\n",
    "    #plt.plot(train_x_mpg, regr.coef_[0][0]*train_x_mpg + regr.intercept_[0], '-r')\n",
    "    #plt.xlabel(\"enginesize\")\n",
    "    #plt.ylabel(\"Price\")\n",
    "    \n",
    "    tracking_url_type_store = urlparse(mlflow.get_tracking_uri()).scheme\n",
    "    \n",
    "    #signature = infer_signature(test, regr.transform(test))\n",
    "    \n",
    "    if tracking_url_type_store != \"file\":\n",
    "        mlflow.sklearn.log_model(regr, \"model\", registered_model_name=\"LR_model\", signature=signature)\n",
    "    else:\n",
    "        mlflow.sklearn.log_model(regr, \"model\")"
   ]
  },
  {
   "cell_type": "code",
   "execution_count": null,
   "id": "b9addbc1",
   "metadata": {},
   "outputs": [],
   "source": []
  }
 ],
 "metadata": {
  "kernelspec": {
   "display_name": "Python 3 (ipykernel)",
   "language": "python",
   "name": "python3"
  },
  "language_info": {
   "codemirror_mode": {
    "name": "ipython",
    "version": 3
   },
   "file_extension": ".py",
   "mimetype": "text/x-python",
   "name": "python",
   "nbconvert_exporter": "python",
   "pygments_lexer": "ipython3",
   "version": "3.9.7"
  }
 },
 "nbformat": 4,
 "nbformat_minor": 5
}
